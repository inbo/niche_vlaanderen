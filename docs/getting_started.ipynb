{
 "cells": [
  {
   "cell_type": "markdown",
   "metadata": {},
   "source": [
    "# Getting started\n",
    "\n",
    "## Interactive usage\n",
    "\n",
    "Niche Vlaanderen can be used interactively in Python. For interactive use, we recommend using the [Jupyter notebook](https://inbo.github.io/niche_vlaanderen/installation.html#running-niche). This allows one to save documentation, code and results in the same file.\n",
    "\n",
    "This file itself is a notebook, and if you want to reproduce our result this is possible:\n",
    "\n",
    " * Download the [niche sourcecode](https://github.com/inbo/niche_vlaanderen/releases) (use the zip file).\n",
    " * Extract the file and navigate to the `docs` folder from the anaconda prompt. Make sure you also extract the testcases directory, as this contains the data we will be using.\n",
    " * Activate the niche environment: `conda activate niche` (not necessary if you used the alternative install).\n",
    " * Run Jupyter notebook: `jupyter notebook`. This should open a web page (similar or equal to http://localhost:8888 ) - check your anaconda prompt for a link if this is not the case.\n",
    " * Navigate your web browser to the `getting_started.ipynb` file (in the Files tab, which should be opened by default).\n",
    " * Any cell with code can be run by by pressing Ctrl+Enter. If you are unfamiliar with notebooks, you can take some time familiarizing yourself by taking the User interface tour from the `Help` menu.\n",
    "\n",
    "## Steps to create a Niche model\n",
    "To calculate a Niche model one has to take the following steps:\n",
    "\n",
    " * Initialize the model (create a ``Niche`` object)\n",
    " * Add the different input grids (or constant values) to the model (``set_input`` method)\n",
    " * Run the model (``run`` method)\n",
    " * Optionally inspect the results using ``plot()`` and ``table``.\n",
    " * Save the results (``write`` method).\n",
    "\n",
    "These steps are mirrored in the design of the ``Niche`` class which is given below.\n",
    "\n",
    "Optionally the user can also create difference maps showing how much MHW/MLW has\n",
    "to change to allow a certain vegetation type. This is done using the ``deviation`` parameter of the ``run`` method."
   ]
  },
  {
   "cell_type": "code",
   "execution_count": 1,
   "metadata": {},
   "outputs": [],
   "source": [
    "from pathlib import Path"
   ]
  },
  {
   "cell_type": "markdown",
   "metadata": {},
   "source": [
    "## Creating a simple NICHE model\n",
    "\n",
    "For our first example, we will be creating a [simple model](https://inbo.github.io/niche_vlaanderen/vegetatie.html#eenvoudig-niche-model), using only MHW, MLW and soil for the predictions.\n",
    "\n",
    "The first step is importing the `niche_vlaanderen` module. For convenience, we will be importing as `nv`. "
   ]
  },
  {
   "cell_type": "code",
   "execution_count": 2,
   "metadata": {},
   "outputs": [],
   "source": [
    "import niche_vlaanderen as nv"
   ]
  },
  {
   "cell_type": "markdown",
   "metadata": {},
   "source": [
    "### Creating a niche object\n",
    "Next we create a `Niche` object. This object will hold all the data and results for an analysis. "
   ]
  },
  {
   "cell_type": "code",
   "execution_count": 3,
   "metadata": {},
   "outputs": [],
   "source": [
    "simple = nv.Niche()"
   ]
  },
  {
   "cell_type": "markdown",
   "metadata": {},
   "source": [
    "### Adding input files\n",
    "\n",
    "After initialization, we can add input layers to this object, using the `set_input` method."
   ]
  },
  {
   "cell_type": "code",
   "execution_count": 4,
   "metadata": {},
   "outputs": [],
   "source": [
    "simple.set_input(\"mhw\", \"../testcase/zwarte_beek/input/mhw.asc\")\n",
    "simple.set_input(\"mlw\", \"../testcase/zwarte_beek/input/mlw.asc\")\n",
    "simple.set_input(\"soil_code\", \"../testcase/zwarte_beek/input/soil_code.asc\")"
   ]
  },
  {
   "cell_type": "markdown",
   "metadata": {},
   "source": [
    "### Running the model\n",
    "These three input files are the only required for running a simple NICHE model. This means we can already run our model."
   ]
  },
  {
   "cell_type": "code",
   "execution_count": 5,
   "metadata": {},
   "outputs": [],
   "source": [
    "simple.run(full_model=False)"
   ]
  },
  {
   "cell_type": "markdown",
   "metadata": {},
   "source": [
    "### Inspecting the model\n",
    "After a model is run, we can inspect the results using the `table` method. Note that the values are given in ha. In the example below we also use the [head](https://pandas.pydata.org/pandas-docs/stable/generated/pandas.DataFrame.head.html) function to show only the first five rows."
   ]
  },
  {
   "cell_type": "code",
   "execution_count": 6,
   "metadata": {},
   "outputs": [
    {
     "data": {
      "text/html": [
       "<div>\n",
       "<style scoped>\n",
       "    .dataframe tbody tr th:only-of-type {\n",
       "        vertical-align: middle;\n",
       "    }\n",
       "\n",
       "    .dataframe tbody tr th {\n",
       "        vertical-align: top;\n",
       "    }\n",
       "\n",
       "    .dataframe thead th {\n",
       "        text-align: right;\n",
       "    }\n",
       "</style>\n",
       "<table border=\"1\" class=\"dataframe\">\n",
       "  <thead>\n",
       "    <tr style=\"text-align: right;\">\n",
       "      <th></th>\n",
       "      <th>vegetation</th>\n",
       "      <th>presence</th>\n",
       "      <th>area_ha</th>\n",
       "    </tr>\n",
       "  </thead>\n",
       "  <tbody>\n",
       "    <tr>\n",
       "      <th>0</th>\n",
       "      <td>1</td>\n",
       "      <td>no data</td>\n",
       "      <td>15.16</td>\n",
       "    </tr>\n",
       "    <tr>\n",
       "      <th>1</th>\n",
       "      <td>1</td>\n",
       "      <td>not present</td>\n",
       "      <td>14.44</td>\n",
       "    </tr>\n",
       "    <tr>\n",
       "      <th>2</th>\n",
       "      <td>1</td>\n",
       "      <td>present</td>\n",
       "      <td>9.88</td>\n",
       "    </tr>\n",
       "    <tr>\n",
       "      <th>3</th>\n",
       "      <td>2</td>\n",
       "      <td>no data</td>\n",
       "      <td>15.16</td>\n",
       "    </tr>\n",
       "    <tr>\n",
       "      <th>4</th>\n",
       "      <td>2</td>\n",
       "      <td>present</td>\n",
       "      <td>12.80</td>\n",
       "    </tr>\n",
       "  </tbody>\n",
       "</table>\n",
       "</div>"
      ],
      "text/plain": [
       "   vegetation     presence  area_ha\n",
       "0           1      no data    15.16\n",
       "1           1  not present    14.44\n",
       "2           1      present     9.88\n",
       "3           2      no data    15.16\n",
       "4           2      present    12.80"
      ]
     },
     "execution_count": 6,
     "metadata": {},
     "output_type": "execute_result"
    }
   ],
   "source": [
    "simple.table.head()"
   ]
  },
  {
   "cell_type": "markdown",
   "metadata": {},
   "source": [
    "The returned object is a [Pandas dataframe](https://pandas.pydata.org/pandas-docs/stable/10min.html) which makes it easy to manipulate (for example calculating a crosstabulation, filtering, ...) or save it to a file. Below we present two examples which can be useful when working with these data. The first is saving the data to a csv file."
   ]
  },
  {
   "cell_type": "code",
   "execution_count": 7,
   "metadata": {},
   "outputs": [],
   "source": [
    "simple.table.to_csv(\"demo.csv\")"
   ]
  },
  {
   "cell_type": "markdown",
   "metadata": {},
   "source": [
    "By using the pandas [pivot_table](https://pandas.pydata.org/pandas-docs/stable/reference/api/pandas.DataFrame.pivot_table.html) method, we can create a summarized table. Note that only the first 5 rows are shown because we use the [head](https://pandas.pydata.org/pandas-docs/stable/reference/api/pandas.DataFrame.head.html) function"
   ]
  },
  {
   "cell_type": "code",
   "execution_count": 8,
   "metadata": {},
   "outputs": [
    {
     "data": {
      "text/html": [
       "<div>\n",
       "<style scoped>\n",
       "    .dataframe tbody tr th:only-of-type {\n",
       "        vertical-align: middle;\n",
       "    }\n",
       "\n",
       "    .dataframe tbody tr th {\n",
       "        vertical-align: top;\n",
       "    }\n",
       "\n",
       "    .dataframe thead th {\n",
       "        text-align: right;\n",
       "    }\n",
       "</style>\n",
       "<table border=\"1\" class=\"dataframe\">\n",
       "  <thead>\n",
       "    <tr style=\"text-align: right;\">\n",
       "      <th>presence</th>\n",
       "      <th>no data</th>\n",
       "      <th>not present</th>\n",
       "      <th>present</th>\n",
       "    </tr>\n",
       "    <tr>\n",
       "      <th>vegetation</th>\n",
       "      <th></th>\n",
       "      <th></th>\n",
       "      <th></th>\n",
       "    </tr>\n",
       "  </thead>\n",
       "  <tbody>\n",
       "    <tr>\n",
       "      <th>1</th>\n",
       "      <td>15.16</td>\n",
       "      <td>14.44</td>\n",
       "      <td>9.88</td>\n",
       "    </tr>\n",
       "    <tr>\n",
       "      <th>2</th>\n",
       "      <td>15.16</td>\n",
       "      <td>11.52</td>\n",
       "      <td>12.80</td>\n",
       "    </tr>\n",
       "    <tr>\n",
       "      <th>3</th>\n",
       "      <td>15.16</td>\n",
       "      <td>5.88</td>\n",
       "      <td>18.44</td>\n",
       "    </tr>\n",
       "    <tr>\n",
       "      <th>4</th>\n",
       "      <td>15.16</td>\n",
       "      <td>21.16</td>\n",
       "      <td>3.16</td>\n",
       "    </tr>\n",
       "    <tr>\n",
       "      <th>5</th>\n",
       "      <td>15.16</td>\n",
       "      <td>24.32</td>\n",
       "      <td>0.00</td>\n",
       "    </tr>\n",
       "  </tbody>\n",
       "</table>\n",
       "</div>"
      ],
      "text/plain": [
       "presence    no data  not present  present\n",
       "vegetation                               \n",
       "1             15.16        14.44     9.88\n",
       "2             15.16        11.52    12.80\n",
       "3             15.16         5.88    18.44\n",
       "4             15.16        21.16     3.16\n",
       "5             15.16        24.32     0.00"
      ]
     },
     "execution_count": 8,
     "metadata": {},
     "output_type": "execute_result"
    }
   ],
   "source": [
    "result = simple.table.pivot_table(index=\"vegetation\", \n",
    "                            values=\"area_ha\", \n",
    "                            columns=\"presence\",\n",
    "                            fill_value=0).head()\n",
    "\n",
    "result"
   ]
  },
  {
   "cell_type": "markdown",
   "metadata": {},
   "source": [
    "It is also possible to show actual grids using the `plot` method."
   ]
  },
  {
   "cell_type": "code",
   "execution_count": 9,
   "metadata": {},
   "outputs": [
    {
     "data": {
      "image/png": "[encoded data removed]",
      "text/plain": [
       "<Figure size 640x480 with 1 Axes>"
      ]
     },
     "metadata": {},
     "output_type": "display_data"
    }
   ],
   "source": [
    "%matplotlib inline\n",
    "import matplotlib.pyplot as plt\n",
    "\n",
    "ax = simple.plot(11)"
   ]
  },
  {
   "cell_type": "markdown",
   "metadata": {},
   "source": [
    "It is possible to give your model a `name` - this will be shown when plotting and will be used when writing the files."
   ]
  },
  {
   "cell_type": "code",
   "execution_count": 10,
   "metadata": {},
   "outputs": [
    {
     "data": {
      "image/png": "[encoded data removed]",
      "text/plain": [
       "<Figure size 640x480 with 1 Axes>"
      ]
     },
     "metadata": {},
     "output_type": "display_data"
    }
   ],
   "source": [
    "simple.name=\"scen_1\"\n",
    "ax = simple.plot(11)"
   ]
  },
  {
   "cell_type": "markdown",
   "metadata": {},
   "source": [
    "Rather than showing just the presence, a detailed plot will also show why certain parts are not present"
   ]
  },
  {
   "cell_type": "code",
   "execution_count": 11,
   "metadata": {},
   "outputs": [
    {
     "data": {
      "image/png": "[encoded data removed]",
      "text/plain": [
       "<Figure size 640x480 with 1 Axes>"
      ]
     },
     "metadata": {},
     "output_type": "display_data"
    }
   ],
   "source": [
    "ax = simple.plot_detail(7)"
   ]
  },
  {
   "cell_type": "markdown",
   "metadata": {},
   "source": [
    "### Saving the model\n",
    "The model results can be saved to disk using the ``write`` function. As an argument, this takes the directory to which you want to save, \\_output_scen1 in our example. When saving a model, the log file, containing the model configuration, a summary table and all 28 vegetation grids will be saved.\n",
    "Note we specify the `overwrite_files` option so subsequent calls of the example will not raise an error"
   ]
  },
  {
   "cell_type": "code",
   "execution_count": 12,
   "metadata": {},
   "outputs": [],
   "source": [
    "simple.write(\"_output_scen1\", overwrite_files=True)"
   ]
  },
  {
   "cell_type": "markdown",
   "metadata": {},
   "source": [
    "Below you can see the list of files that is generated by this operation: There are the 28 vegetation grids (`*.tif` files), the summary table (`summary.csv`) and a logfile (`log.txt`). All files are prepended with the model `name` we set earlier."
   ]
  },
  {
   "cell_type": "code",
   "execution_count": 13,
   "metadata": {},
   "outputs": [
    {
     "data": {
      "text/plain": [
       "['scen_1_V01.tif',\n",
       " 'scen_1_V02.tif',\n",
       " 'scen_1_V03.tif',\n",
       " 'scen_1_V04.tif',\n",
       " 'scen_1_V05.tif',\n",
       " 'scen_1_V06.tif',\n",
       " 'scen_1_V07.tif',\n",
       " 'scen_1_V08.tif',\n",
       " 'scen_1_V09.tif',\n",
       " 'scen_1_V10.tif',\n",
       " 'scen_1_V11.tif',\n",
       " 'scen_1_V12.tif',\n",
       " 'scen_1_V13.tif',\n",
       " 'scen_1_V14.tif',\n",
       " 'scen_1_V15.tif',\n",
       " 'scen_1_V16.tif',\n",
       " 'scen_1_V17.tif',\n",
       " 'scen_1_V18.tif',\n",
       " 'scen_1_V19.tif',\n",
       " 'scen_1_V20.tif',\n",
       " 'scen_1_V21.tif',\n",
       " 'scen_1_V22.tif',\n",
       " 'scen_1_V23.tif',\n",
       " 'scen_1_V24.tif',\n",
       " 'scen_1_V25.tif',\n",
       " 'scen_1_V26.tif',\n",
       " 'scen_1_V27.tif',\n",
       " 'scen_1_V28.tif',\n",
       " 'scen_1_log.txt',\n",
       " 'scen_1_summary.csv']"
      ]
     },
     "execution_count": 13,
     "metadata": {},
     "output_type": "execute_result"
    }
   ],
   "source": [
    "import os\n",
    "sorted(os.listdir(\"_output_scen1\"))"
   ]
  },
  {
   "cell_type": "markdown",
   "metadata": {},
   "source": [
    "### Showing the model configuration\n",
    "While using niche, it is always possible to view the configuration by typing the object name. "
   ]
  },
  {
   "cell_type": "code",
   "execution_count": 14,
   "metadata": {},
   "outputs": [
    {
     "data": {
      "text/plain": [
       "# Niche Vlaanderen version: 2.0\n",
       "# Using latest niche_vlaanderen  2.0\n",
       "# Reference values:\n",
       "#     version: 12C\n",
       "#     source: 10.5281/zenodo.10521548\n",
       "#     original file: NICHE_FL_referencegroundwaterlevels_v12C.csv\n",
       "# Run at: 2024-10-02 15:10:04.984942\n",
       "\n",
       "package_versions:\n",
       "  pandas: 2.2.2\n",
       "  numpy: 1.26.4\n",
       "  rasterio: 1.3.10\n",
       "  gdal: 3.8.4\n",
       "  python: '3.11.0 | packaged by conda-forge | (main, Jan 14 2023, 12:27:40) [GCC 11.3.0]'\n",
       "\n",
       "model_options:\n",
       "  deviation: false\n",
       "  full_model: false\n",
       "  name: scen_1\n",
       "  output_dir: _output_scen1\n",
       "  strict_checks: true\n",
       "  \n",
       "model_properties:\n",
       "  model_extent: ((216580.0, 198580.0), (217520.0, 198160.0))\n",
       "\n",
       "input_layers:\n",
       "  mhw: ../testcase/zwarte_beek/input/mhw.asc\n",
       "  mlw: ../testcase/zwarte_beek/input/mlw.asc\n",
       "  soil_code: ../testcase/zwarte_beek/input/soil_code.asc\n",
       "  # Model run completed\n",
       "files_written:\n",
       "  1: _output_scen1/scen_1_V01.tif\n",
       "  2: _output_scen1/scen_1_V02.tif\n",
       "  3: _output_scen1/scen_1_V03.tif\n",
       "  4: _output_scen1/scen_1_V04.tif\n",
       "  5: _output_scen1/scen_1_V05.tif\n",
       "  6: _output_scen1/scen_1_V06.tif\n",
       "  7: _output_scen1/scen_1_V07.tif\n",
       "  8: _output_scen1/scen_1_V08.tif\n",
       "  9: _output_scen1/scen_1_V09.tif\n",
       "  10: _output_scen1/scen_1_V10.tif\n",
       "  11: _output_scen1/scen_1_V11.tif\n",
       "  12: _output_scen1/scen_1_V12.tif\n",
       "  13: _output_scen1/scen_1_V13.tif\n",
       "  14: _output_scen1/scen_1_V14.tif\n",
       "  15: _output_scen1/scen_1_V15.tif\n",
       "  16: _output_scen1/scen_1_V16.tif\n",
       "  17: _output_scen1/scen_1_V17.tif\n",
       "  18: _output_scen1/scen_1_V18.tif\n",
       "  19: _output_scen1/scen_1_V19.tif\n",
       "  20: _output_scen1/scen_1_V20.tif\n",
       "  21: _output_scen1/scen_1_V21.tif\n",
       "  22: _output_scen1/scen_1_V22.tif\n",
       "  23: _output_scen1/scen_1_V23.tif\n",
       "  24: _output_scen1/scen_1_V24.tif\n",
       "  25: _output_scen1/scen_1_V25.tif\n",
       "  26: _output_scen1/scen_1_V26.tif\n",
       "  27: _output_scen1/scen_1_V27.tif\n",
       "  28: _output_scen1/scen_1_V28.tif\n",
       "  "
      ]
     },
     "execution_count": 14,
     "metadata": {},
     "output_type": "execute_result"
    }
   ],
   "source": [
    "simple"
   ]
  },
  {
   "cell_type": "markdown",
   "metadata": {},
   "source": [
    "<div class=\"alert alert-info\">\n",
    "Note that this overview contains the same information as the logfile which we wrote before. Later on, we will show that this can be used as input when running Niche with a configuration file (either from [within Python](advanced_usage.ipynb#Using-config-files) or from the [command line](cli.rst)).\n",
    "</div>"
   ]
  },
  {
   "cell_type": "markdown",
   "metadata": {},
   "source": [
    "## Running a full Niche model\n",
    "\n",
    "A full Niche model requires more inputs that only mhw, mlw and soil_code. The full list can be found in the [documentation](cli.rst). When trying to run a model without sufficient inputs, a warning will be generated."
   ]
  },
  {
   "cell_type": "markdown",
   "metadata": {},
   "source": [
    "If we add all the required values, we can run the full model. Note that it is possible to set a constant value instead of a complete grid"
   ]
  },
  {
   "cell_type": "code",
   "execution_count": 20,
   "metadata": {},
   "outputs": [],
   "source": [
    "full = nv.Niche()\n",
    "input_folder = Path(\"../testcase/zwarte_beek/input/\")\n",
    "full.set_input(\"mhw\", input_folder / \"mhw.asc\")\n",
    "full.set_input(\"mlw\", input_folder / \"mlw.asc\")\n",
    "full.set_input(\"soil_code\", input_folder / \"soil_code.asc\")\n",
    "full.set_input(\"nitrogen_animal\", 0)\n",
    "full.set_input(\"inundation_acidity\", input_folder / \"inundation.asc\")\n",
    "full.set_input(\"inundation_nutrient\", input_folder / \"inundation.asc\")\n",
    "full.set_input(\"nitrogen_fertilizer\",0)\n",
    "full.set_input(\"minerality\", input_folder / \"minerality.asc\")\n",
    "full.set_input(\"management\", input_folder / \"management.asc\")\n",
    "full.set_input(\"nitrogen_atmospheric\", 0)\n",
    "full.set_input(\"msw\", input_folder / \"msw.asc\")\n",
    "full.set_input(\"rainwater\", 0)\n",
    "full.set_input(\"seepage\", input_folder / \"seepage.asc\")\n",
    "full.run()"
   ]
  },
  {
   "cell_type": "markdown",
   "metadata": {},
   "source": [
    "We can look at the full model using the same `table` and `plot` functions as we used for the simple model."
   ]
  },
  {
   "cell_type": "code",
   "execution_count": 16,
   "metadata": {
    "scrolled": true
   },
   "outputs": [
    {
     "data": {
      "text/html": [
       "<div>\n",
       "<style scoped>\n",
       "    .dataframe tbody tr th:only-of-type {\n",
       "        vertical-align: middle;\n",
       "    }\n",
       "\n",
       "    .dataframe tbody tr th {\n",
       "        vertical-align: top;\n",
       "    }\n",
       "\n",
       "    .dataframe thead th {\n",
       "        text-align: right;\n",
       "    }\n",
       "</style>\n",
       "<table border=\"1\" class=\"dataframe\">\n",
       "  <thead>\n",
       "    <tr style=\"text-align: right;\">\n",
       "      <th></th>\n",
       "      <th>vegetation</th>\n",
       "      <th>presence</th>\n",
       "      <th>area_ha</th>\n",
       "    </tr>\n",
       "  </thead>\n",
       "  <tbody>\n",
       "    <tr>\n",
       "      <th>0</th>\n",
       "      <td>1</td>\n",
       "      <td>not present</td>\n",
       "      <td>15.44</td>\n",
       "    </tr>\n",
       "    <tr>\n",
       "      <th>1</th>\n",
       "      <td>1</td>\n",
       "      <td>no data</td>\n",
       "      <td>15.16</td>\n",
       "    </tr>\n",
       "    <tr>\n",
       "      <th>2</th>\n",
       "      <td>1</td>\n",
       "      <td>present</td>\n",
       "      <td>8.88</td>\n",
       "    </tr>\n",
       "    <tr>\n",
       "      <th>3</th>\n",
       "      <td>2</td>\n",
       "      <td>not present</td>\n",
       "      <td>21.52</td>\n",
       "    </tr>\n",
       "    <tr>\n",
       "      <th>4</th>\n",
       "      <td>2</td>\n",
       "      <td>no data</td>\n",
       "      <td>15.16</td>\n",
       "    </tr>\n",
       "  </tbody>\n",
       "</table>\n",
       "</div>"
      ],
      "text/plain": [
       "   vegetation     presence  area_ha\n",
       "0           1  not present    15.44\n",
       "1           1      no data    15.16\n",
       "2           1      present     8.88\n",
       "3           2  not present    21.52\n",
       "4           2      no data    15.16"
      ]
     },
     "execution_count": 16,
     "metadata": {},
     "output_type": "execute_result"
    }
   ],
   "source": [
    "full.table.head()"
   ]
  },
  {
   "cell_type": "markdown",
   "metadata": {},
   "source": [
    "Comparing to the simple model, one can observe that the area where a vegetation type can be present is always smaller than in the simple model."
   ]
  },
  {
   "cell_type": "code",
   "execution_count": 17,
   "metadata": {},
   "outputs": [
    {
     "data": {
      "text/html": [
       "<div>\n",
       "<style scoped>\n",
       "    .dataframe tbody tr th:only-of-type {\n",
       "        vertical-align: middle;\n",
       "    }\n",
       "\n",
       "    .dataframe tbody tr th {\n",
       "        vertical-align: top;\n",
       "    }\n",
       "\n",
       "    .dataframe thead th {\n",
       "        text-align: right;\n",
       "    }\n",
       "</style>\n",
       "<table border=\"1\" class=\"dataframe\">\n",
       "  <thead>\n",
       "    <tr style=\"text-align: right;\">\n",
       "      <th></th>\n",
       "      <th>vegetation</th>\n",
       "      <th>presence</th>\n",
       "      <th>area_ha</th>\n",
       "    </tr>\n",
       "  </thead>\n",
       "  <tbody>\n",
       "    <tr>\n",
       "      <th>0</th>\n",
       "      <td>1</td>\n",
       "      <td>no data</td>\n",
       "      <td>15.16</td>\n",
       "    </tr>\n",
       "    <tr>\n",
       "      <th>1</th>\n",
       "      <td>1</td>\n",
       "      <td>not present</td>\n",
       "      <td>14.44</td>\n",
       "    </tr>\n",
       "    <tr>\n",
       "      <th>2</th>\n",
       "      <td>1</td>\n",
       "      <td>present</td>\n",
       "      <td>9.88</td>\n",
       "    </tr>\n",
       "    <tr>\n",
       "      <th>3</th>\n",
       "      <td>2</td>\n",
       "      <td>no data</td>\n",
       "      <td>15.16</td>\n",
       "    </tr>\n",
       "    <tr>\n",
       "      <th>4</th>\n",
       "      <td>2</td>\n",
       "      <td>present</td>\n",
       "      <td>12.80</td>\n",
       "    </tr>\n",
       "  </tbody>\n",
       "</table>\n",
       "</div>"
      ],
      "text/plain": [
       "   vegetation     presence  area_ha\n",
       "0           1      no data    15.16\n",
       "1           1  not present    14.44\n",
       "2           1      present     9.88\n",
       "3           2      no data    15.16\n",
       "4           2      present    12.80"
      ]
     },
     "execution_count": 17,
     "metadata": {},
     "output_type": "execute_result"
    }
   ],
   "source": [
    "simple.table.head()"
   ]
  },
  {
   "cell_type": "markdown",
   "metadata": {},
   "source": [
    "In the next tutorial, we will focus on more [advanced methods for using the package](https://inbo.github.io/niche_vlaanderen/advanced_usage.html), starting with the comparison of these two models."
   ]
  }
 ],
 "metadata": {
  "kernelspec": {
   "display_name": "niche-vlaanderen",
   "language": "python",
   "name": "niche-vlaanderen"
  },
  "language_info": {
   "codemirror_mode": {
    "name": "ipython",
    "version": 3
   },
   "file_extension": ".py",
   "mimetype": "text/x-python",
   "name": "python",
   "nbconvert_exporter": "python",
   "pygments_lexer": "ipython3",
   "version": "3.11.0"
  }
 },
 "nbformat": 4,
 "nbformat_minor": 4
}
